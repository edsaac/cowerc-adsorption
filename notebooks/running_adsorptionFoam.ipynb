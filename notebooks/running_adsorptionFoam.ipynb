{
 "cells": [
  {
   "cell_type": "code",
   "execution_count": 1,
   "metadata": {},
   "outputs": [],
   "source": [
    "from espuma import Case_Directory\n",
    "import pyvista as pv"
   ]
  },
  {
   "cell_type": "code",
   "execution_count": 2,
   "metadata": {},
   "outputs": [],
   "source": [
    "of_template = Case_Directory(\"../templates/first_order_adsorption/adsorptionFoam\")\n",
    "of_case = Case_Directory.clone_from_template(of_template, \"_column_case\", overwrite=True)"
   ]
  },
  {
   "cell_type": "code",
   "execution_count": 3,
   "metadata": {},
   "outputs": [
    {
     "data": {
      "text/html": [
       "<details open>\n",
       "<summary><b>_column_case</b></summary>\n",
       "<ul style='list-style: none;'>\n",
       "<li><details open>\n",
       "<summary><b>0</b></summary>\n",
       "<ul><li>Cads</li>\n",
       "\n",
       "<li>darcyFlux</li>\n",
       "\n",
       "<li>Bads</li>\n",
       "\n",
       "<li>Caq</li>\n",
       "\n",
       "<li>Baq</li>\n",
       "\n",
       "</ul>\n",
       "</details>\n",
       "</li>\n",
       "<li><details open>\n",
       "<summary><b>constant</b></summary>\n",
       "<ul><li>transportProperties</li>\n",
       "\n",
       "</ul>\n",
       "</details>\n",
       "</li>\n",
       "<li><details open>\n",
       "<summary><b>system</b></summary>\n",
       "<ul><li>blockMeshDict</li>\n",
       "\n",
       "<li>controlDict</li>\n",
       "\n",
       "<li>fvSchemes</li>\n",
       "\n",
       "<li>fvSolution</li>\n",
       "\n",
       "<li>boundaryProbes</li>\n",
       "\n",
       "</ul>\n",
       "</details>\n",
       "</li>\n",
       "</ul>\n",
       "</details>\n"
      ],
      "text/plain": [
       "Case_Directory(/home/edsaac/Repos/cowerc-adsorption/notebooks/_column_case)"
      ]
     },
     "execution_count": 3,
     "metadata": {},
     "output_type": "execute_result"
    }
   ],
   "source": [
    "of_case"
   ]
  },
  {
   "cell_type": "code",
   "execution_count": 4,
   "metadata": {},
   "outputs": [
    {
     "data": {
      "text/plain": [
       "'uniform ( 0 0 -0.001 )'"
      ]
     },
     "execution_count": 4,
     "metadata": {},
     "output_type": "execute_result"
    }
   ],
   "source": [
    "of_case.zero.darcyFlux[\"internalField\"]"
   ]
  },
  {
   "cell_type": "code",
   "execution_count": 5,
   "metadata": {},
   "outputs": [],
   "source": [
    "of_case.zero.darcyFlux[\"internalField\"] = \"uniform (0 0 -2e-3)\""
   ]
  },
  {
   "cell_type": "code",
   "execution_count": 6,
   "metadata": {},
   "outputs": [
    {
     "name": "stdout",
     "output_type": "stream",
     "text": [
      "adsorptionFoam finished successfully!\n"
     ]
    }
   ],
   "source": [
    "of_case._runCase()"
   ]
  },
  {
   "cell_type": "code",
   "execution_count": 7,
   "metadata": {},
   "outputs": [],
   "source": [
    "reader = of_case.get_vtk_reader()"
   ]
  },
  {
   "cell_type": "code",
   "execution_count": 8,
   "metadata": {},
   "outputs": [
    {
     "data": {
      "text/plain": [
       "0.0"
      ]
     },
     "execution_count": 8,
     "metadata": {},
     "output_type": "execute_result"
    }
   ],
   "source": [
    "reader.active_time_value"
   ]
  },
  {
   "cell_type": "code",
   "execution_count": 9,
   "metadata": {},
   "outputs": [],
   "source": [
    "reader.set_active_time_value(60)"
   ]
  },
  {
   "cell_type": "code",
   "execution_count": 10,
   "metadata": {},
   "outputs": [
    {
     "data": {
      "text/html": [
       "<table><tr><th>Information</th><th>Blocks</th></tr><tr><td>\n",
       "<table>\n",
       "<tr><th>MultiBlock</th><th>Values</th></tr>\n",
       "<tr><td>N Blocks</td><td>2</td></tr>\n",
       "<tr><td>X Bounds</td><td>0.000, 0.050</td></tr>\n",
       "<tr><td>Y Bounds</td><td>0.000, 0.050</td></tr>\n",
       "<tr><td>Z Bounds</td><td>0.000, 1.000</td></tr>\n",
       "</table>\n",
       "\n",
       "</td><td>\n",
       "<table>\n",
       "<tr><th>Index</th><th>Name</th><th>Type</th></tr>\n",
       "<tr><th>0</th><th>internalMesh</th><th>UnstructuredGrid</th></tr>\n",
       "<tr><th>1</th><th>boundary</th><th>MultiBlock</th></tr>\n",
       "</table>\n",
       "\n",
       "</td></tr> </table>"
      ],
      "text/plain": [
       "MultiBlock (0x7f123d20dc60)\n",
       "  N Blocks:\t2\n",
       "  X Bounds:\t0.000, 0.050\n",
       "  Y Bounds:\t0.000, 0.050\n",
       "  Z Bounds:\t0.000, 1.000"
      ]
     },
     "execution_count": 10,
     "metadata": {},
     "output_type": "execute_result"
    }
   ],
   "source": [
    "mesh = reader.read()\n",
    "mesh"
   ]
  },
  {
   "cell_type": "code",
   "execution_count": 11,
   "metadata": {},
   "outputs": [],
   "source": [
    "internalMesh = mesh[\"internalMesh\"]\n",
    "boundaries = mesh[\"boundary\"]"
   ]
  },
  {
   "cell_type": "code",
   "execution_count": 12,
   "metadata": {},
   "outputs": [
    {
     "data": {
      "text/html": [
       "<table><tr><th>Header</th><th>Data Arrays</th></tr><tr><td>\n",
       "<table>\n",
       "<tr><th>UnstructuredGrid</th><th>Information</th></tr>\n",
       "<tr><td>N Cells</td><td>100</td></tr>\n",
       "<tr><td>N Points</td><td>404</td></tr>\n",
       "<tr><td>X Bounds</td><td>0.000e+00, 5.000e-02</td></tr>\n",
       "<tr><td>Y Bounds</td><td>0.000e+00, 5.000e-02</td></tr>\n",
       "<tr><td>Z Bounds</td><td>0.000e+00, 1.000e+00</td></tr>\n",
       "<tr><td>N Arrays</td><td>8</td></tr>\n",
       "</table>\n",
       "\n",
       "</td><td>\n",
       "<table>\n",
       "<tr><th>Name</th><th>Field</th><th>Type</th><th>N Comp</th><th>Min</th><th>Max</th></tr>\n",
       "<tr><td>Bads</td><td>Points</td><td>float32</td><td>1</td><td>7.712e-39</td><td>3.321e-04</td></tr>\n",
       "<tr><td>Baq</td><td>Points</td><td>float32</td><td>1</td><td>2.943e-36</td><td>2.000e-03</td></tr>\n",
       "<tr><td>Cads</td><td>Points</td><td>float32</td><td>1</td><td>6.559e-40</td><td>1.671e-05</td></tr>\n",
       "<tr><td>Caq</td><td>Points</td><td>float32</td><td>1</td><td>2.518e-36</td><td>1.000e-03</td></tr>\n",
       "<tr><td>Bads</td><td>Cells</td><td>float32</td><td>1</td><td>7.712e-39</td><td>3.321e-04</td></tr>\n",
       "<tr><td>Baq</td><td>Cells</td><td>float32</td><td>1</td><td>2.943e-36</td><td>1.989e-03</td></tr>\n",
       "<tr><td>Cads</td><td>Cells</td><td>float32</td><td>1</td><td>6.559e-40</td><td>1.671e-05</td></tr>\n",
       "<tr><td>Caq</td><td>Cells</td><td>float32</td><td>1</td><td>2.518e-36</td><td>9.994e-04</td></tr>\n",
       "</table>\n",
       "\n",
       "</td></tr> </table>"
      ],
      "text/plain": [
       "UnstructuredGrid (0x7f123d20d540)\n",
       "  N Cells:    100\n",
       "  N Points:   404\n",
       "  X Bounds:   0.000e+00, 5.000e-02\n",
       "  Y Bounds:   0.000e+00, 5.000e-02\n",
       "  Z Bounds:   0.000e+00, 1.000e+00\n",
       "  N Arrays:   8"
      ]
     },
     "execution_count": 12,
     "metadata": {},
     "output_type": "execute_result"
    }
   ],
   "source": [
    "internalMesh"
   ]
  },
  {
   "cell_type": "code",
   "execution_count": 17,
   "metadata": {},
   "outputs": [],
   "source": [
    "pv.start_xvfb()\n",
    "pv.set_jupyter_backend(\"static\")"
   ]
  },
  {
   "cell_type": "code",
   "execution_count": 18,
   "metadata": {},
   "outputs": [
    {
     "data": {
      "image/png": "[encoded data removed]",
      "text/plain": [
       "<PIL.Image.Image image mode=RGB size=1024x768>"
      ]
     },
     "metadata": {},
     "output_type": "display_data"
    }
   ],
   "source": [
    "plotter = pv.Plotter()\n",
    "plotter.add_mesh(internalMesh, scalars=\"Caq\")\n",
    "plotter.show()"
   ]
  },
  {
   "cell_type": "code",
   "execution_count": null,
   "metadata": {},
   "outputs": [],
   "source": []
  }
 ],
 "metadata": {
  "kernelspec": {
   "display_name": "venv",
   "language": "python",
   "name": "python3"
  },
  "language_info": {
   "codemirror_mode": {
    "name": "ipython",
    "version": 3
   },
   "file_extension": ".py",
   "mimetype": "text/x-python",
   "name": "python",
   "nbconvert_exporter": "python",
   "pygments_lexer": "ipython3",
   "version": "3.10.13"
  }
 },
 "nbformat": 4,
 "nbformat_minor": 2
}
